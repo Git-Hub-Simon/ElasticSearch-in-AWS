{
    "metadata": {
        "kernelspec": {
            "name": "python3",
            "display_name": "Python 3"
        },
        "language_info": {
            "name": "python",
            "version": "3.7.4",
            "mimetype": "text/x-python",
            "codemirror_mode": {
                "name": "ipython",
                "version": 3
            },
            "pygments_lexer": "ipython3",
            "nbconvert_exporter": "python",
            "file_extension": ".py"
        }
    },
    "nbformat_minor": 2,
    "nbformat": 4,
    "cells": [
        {
            "cell_type": "markdown",
            "source": [
                "# Connecting to Elasticsearch and Inserting Data\r\n",
                "1. First import all the releavnt modules.\r\n",
                ""
            ],
            "metadata": {
                "azdata_cell_guid": "d776946c-4f4b-4746-88e4-7fe1792d6e3c"
            }
        },
        {
            "cell_type": "code",
            "source": [
                "import requests\r\n",
                "import json\r\n",
                "from elasticsearch import Elasticsearch\r\n",
                "from elasticsearch import helpers\r\n",
                "from pprint import pprint\r\n",
                "from datetime import datetime\r\n",
                "print (\"All Imported\")"
            ],
            "metadata": {
                "azdata_cell_guid": "7d6bc0a9-5473-45ff-9d0d-65b325f9cbb8",
                "tags": []
            },
            "outputs": [],
            "execution_count": null
        },
        {
            "cell_type": "markdown",
            "source": [
                "## Update required variables\r\n",
                "2. You will need to copy your domain for the Elasticsearch you have created."
            ],
            "metadata": {
                "azdata_cell_guid": "7cd5c150-8a82-4508-8912-bacb0ad51e73"
            }
        },
        {
            "cell_type": "code",
            "source": [
                "# Copy your Elasticsearch domain here\r\n",
                "domain = '' \r\n",
                "es = Elasticsearch(domain)\r\n",
                "print('Variables Set')"
            ],
            "metadata": {
                "azdata_cell_guid": "8cea7245-3a08-426f-bc05-7cb7f2f3898e",
                "tags": []
            },
            "outputs": [],
            "execution_count": null
        },
        {
            "cell_type": "markdown",
            "source": [
                "## Functions \r\n",
                "3. This section contains functions that are used in the following code blocks. "
            ],
            "metadata": {
                "azdata_cell_guid": "6310e766-e77d-4a3b-b049-26a717168056"
            }
        },
        {
            "cell_type": "code",
            "source": [
                "def return_indices(var_domain, var_area):\r\n",
                "    res = requests.get(domain + area, params=param)\r\n",
                "    print ('\\nHTTP code',res.status_code, '--response:', res, '\\n')\r\n",
                "    print (res.text)\r\n",
                "\r\n",
                "print(\"Functions defined\")"
            ],
            "metadata": {
                "azdata_cell_guid": "0adb2c3c-2823-4a48-bcd5-cd50aa85dd1f"
            },
            "outputs": [],
            "execution_count": null
        },
        {
            "cell_type": "markdown",
            "source": [
                "## Status of your Domain\r\n",
                "4. There are a number of different ways to return the results. I have found print(res.test) to be the best for this result.\r\n",
                "There are a few options commented out which will return the results in a different format."
            ],
            "metadata": {
                "azdata_cell_guid": "e51cda7c-413a-4651-a490-0e3eda85d384"
            }
        },
        {
            "cell_type": "code",
            "source": [
                "res = requests.get(domain)\r\n",
                "##print (res.content)\r\n",
                "##pprint(res.text)\r\n",
                "print(res.text)"
            ],
            "metadata": {
                "azdata_cell_guid": "082eeb39-8c69-4d43-b982-b41405abb0d8",
                "tags": []
            },
            "outputs": [],
            "execution_count": null
        },
        {
            "cell_type": "markdown",
            "source": [
                "## Node and Index Status\r\n",
                "5. Returns the status of the node and returns details of any existing indices."
            ],
            "metadata": {
                "azdata_cell_guid": "0802f22a-380a-4173-91a2-fea7e4987cfb"
            }
        },
        {
            "cell_type": "code",
            "source": [
                "res = requests.get(domain + '/_cat/nodes?v&pretty')\r\n",
                "##print (res.content)\r\n",
                "pprint(res.text)\r\n",
                "\r\n",
                "param = (('v',''),) # '-v is for verbose\r\n",
                "area = '/_cat/indices' # /_cat/indices, /_cat/nodes\r\n",
                "return_indices(domain, area)"
            ],
            "metadata": {
                "azdata_cell_guid": "73fc3470-24e3-447f-865c-71325cad4aa6",
                "tags": []
            },
            "outputs": [],
            "execution_count": null
        },
        {
            "cell_type": "markdown",
            "source": [
                "# Creating an Index and Inserting Data\r\n",
                "6. It is possible to work with index's without inserting a document. The below code creates an empty index."
            ],
            "metadata": {
                "azdata_cell_guid": "e62c409b-4687-41f1-ba27-e9f8a1d0a7aa"
            }
        },
        {
            "cell_type": "code",
            "source": [
                "index_name = 'test_index'\r\n",
                "es.indices.create(index=index_name)\r\n",
                "return_indices(domain, area)"
            ],
            "metadata": {
                "azdata_cell_guid": "39001bbd-e7a4-45da-9865-f5873865885b"
            },
            "outputs": [],
            "execution_count": null
        },
        {
            "cell_type": "markdown",
            "source": [
                "7. Deletes and checks index removal.\r\n",
                ""
            ],
            "metadata": {
                "azdata_cell_guid": "3027e408-7996-4eb9-b9f1-56337a9b2665"
            }
        },
        {
            "cell_type": "code",
            "source": [
                "index_name = 'test_index'\r\n",
                "es.indices.delete(index=index_name)\r\n",
                "return_indices(domain, area)"
            ],
            "metadata": {
                "azdata_cell_guid": "2d76861a-4910-4720-a861-ea7e6c4b8f3d"
            },
            "outputs": [],
            "execution_count": null
        },
        {
            "cell_type": "markdown",
            "source": [
                "## Creating Index and Inserting Data\r\n",
                "8. The below will create or update an existing index and add the single json document to it."
            ],
            "metadata": {
                "azdata_cell_guid": "8ec74b66-2c02-4349-904c-ba9878dff67b"
            }
        },
        {
            "cell_type": "code",
            "source": [
                "document = {\r\n",
                "    'author':'kimchy',\r\n",
                "    'text':'Elasticsearch: cool. bonsai cool',\r\n",
                "    'timestamp': datetime.now(),\r\n",
                "}\r\n",
                "index_name = 'test_index'\r\n",
                "doc_type = 'test'\r\n",
                "\r\n",
                "res = es.index(index=index_name, doc_type=doc_type, id=1, body=document)\r\n",
                "print(res['result'])\r\n",
                "\r\n",
                "return_indices(domain, area)"
            ],
            "metadata": {
                "azdata_cell_guid": "c9d9fcac-09b5-4a13-8f0c-712f965e7ccd"
            },
            "outputs": [],
            "execution_count": null
        },
        {
            "cell_type": "markdown",
            "source": [
                "# Searching your Index\r\n",
                "9. The below is a very basic search which will return every document within the index."
            ],
            "metadata": {
                "azdata_cell_guid": "2488ad39-e426-4491-8e42-4f6a593e176e"
            }
        },
        {
            "cell_type": "code",
            "source": [
                "index_name = 'test_index'\r\n",
                "es.search(index=index_name)"
            ],
            "metadata": {
                "azdata_cell_guid": "bac7d2c9-18b5-40ce-bb96-8fe0219dda3f"
            },
            "outputs": [],
            "execution_count": null
        },
        {
            "cell_type": "markdown",
            "source": [
                "10. You can add additional search parameters to the command, but with only one document this is a little pointless. "
            ],
            "metadata": {
                "azdata_cell_guid": "ee1d2d8b-6477-4727-a035-54e99c1346d0"
            }
        },
        {
            "cell_type": "code",
            "source": [
                "doc_type = \"test\"\r\n",
                "es.search(index=index_name, doc_type=doc_type)"
            ],
            "metadata": {
                "azdata_cell_guid": "e19045f4-dc0c-4530-bc7c-006673cd3e6a"
            },
            "outputs": [],
            "execution_count": null
        },
        {
            "cell_type": "markdown",
            "source": [
                "# Loading a larger dataset\r\n",
                "To show the real power of search both in this notebook and in Kibana you need a larger dataset.\r\n",
                "I have download a sample json file containing multiply docuements from :\r\n",
                "This data being uploaded contains 6,000 account records."
            ],
            "metadata": {
                "azdata_cell_guid": "1672439d-0118-40ef-8fea-0e331b91e3f9"
            }
        },
        {
            "cell_type": "markdown",
            "source": [
                "11. Set the directory containing the file to upload.\r\n",
                "Note that the backslashs have been replaced with forward slashs."
            ],
            "metadata": {
                "azdata_cell_guid": "776efe2b-1d40-4905-87b5-af7eceab21de"
            }
        },
        {
            "cell_type": "code",
            "source": [
                "# add your local directory here, remember that you need to use / in the directory path\r\n",
                "directory = \"\" \r\n",
                "index_name = \"accounts\"\r\n",
                "doc_type = \"finance\"\r\n",
                "print(\"Variables set\")"
            ],
            "metadata": {
                "azdata_cell_guid": "cfac1c72-25fe-4311-b1c2-a2b80bee04b9",
                "tags": []
            },
            "outputs": [],
            "execution_count": null
        },
        {
            "cell_type": "markdown",
            "source": [
                "12. This next code block users the Elasticserach helper command to bulk uploaded the contents of the accounts json file."
            ],
            "metadata": {
                "azdata_cell_guid": "50777f20-b40a-4936-8096-006ada0fb1cf"
            }
        },
        {
            "cell_type": "code",
            "source": [
                "\r\n",
                "op_list = []\r\n",
                "with open(directory) as json_file:\r\n",
                "    for record in json_file:\r\n",
                "        op_list.append({\r\n",
                "                'op_type':'index',\r\n",
                "                '_index': index_name,\r\n",
                "                '_type': doc_type,\r\n",
                "                '_source': record\r\n",
                "        })\r\n",
                "helpers.bulk(client=es, actions=op_list)\r\n",
                "\r\n",
                "print(\"List Uploaded\")\r\n",
                ""
            ],
            "metadata": {
                "azdata_cell_guid": "f4391d51-0554-43c1-aa8c-7093df564593"
            },
            "outputs": [],
            "execution_count": null
        },
        {
            "cell_type": "code",
            "source": [
                "return_indices(domain, area)"
            ],
            "metadata": {
                "azdata_cell_guid": "31d72f74-39b9-4dbe-be67-d851cedc6e0d"
            },
            "outputs": [],
            "execution_count": null
        },
        {
            "cell_type": "markdown",
            "source": [
                "# Searching an Index\r\n",
                "13. The two below code bocks are different ways to search the created index to return the documents. "
            ],
            "metadata": {
                "azdata_cell_guid": "9903b25c-1454-4585-b8e3-2ab328b4a7ef"
            }
        },
        {
            "cell_type": "code",
            "source": [
                "\r\n",
                "start_from = 0 # this determines from which data item the data should be returned\r\n",
                "size = 2    # this is the number of docuemnts to be returned\r\n",
                "sort = {'balance':{'order':'asc'}}\r\n",
                "body = {\r\n",
                "    \"from\":start_from,\r\n",
                "    \"size\":size,\r\n",
                "    \"fields\": [\"balance\"],\r\n",
                "    \"query\": {\r\n",
                "        \"term\": {\r\n",
                "        }\r\n",
                "    },\r\n",
                "    \"sort\": {\r\n",
                "        \"balance\": {\r\n",
                "            \"order\": \"asc\"\r\n",
                "        }\r\n",
                "    }\r\n",
                "}\r\n",
                "res = es.search(index=index_name, \r\n",
                "                doc_type=doc_type, \r\n",
                "                size=size,\r\n",
                "                sort=sort)\r\n",
                "res"
            ],
            "metadata": {
                "azdata_cell_guid": "9a8aef5f-f053-4072-9658-ecf4ccc16a68",
                "tags": []
            },
            "outputs": [],
            "execution_count": null
        },
        {
            "cell_type": "code",
            "source": [
                "req = []\r\n",
                "start_from = 0\r\n",
                "size = 1    # this is the number of docuemnts to be returned\r\n",
                "req_head = {'index': index_name, 'type': doc_type}\r\n",
                "req_body = {\r\n",
                "    'query': {'range': {'balance': {'gte':10000, 'lt': 20000}}},\r\n",
                "    'from': start_from, 'size': size,\r\n",
                "}\r\n",
                "req.extend([req_head, req_body])\r\n",
                "\r\n",
                "res = es.msearch(body = req)\r\n",
                "res"
            ],
            "metadata": {
                "azdata_cell_guid": "e9e6d6b8-54b9-48b3-99c9-333bf278dc14"
            },
            "outputs": [],
            "execution_count": null
        }
    ]
}